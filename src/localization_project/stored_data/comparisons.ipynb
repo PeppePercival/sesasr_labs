{
 "cells": [
  {
   "cell_type": "code",
   "execution_count": 1,
   "metadata": {},
   "outputs": [],
   "source": [
    "import numpy as np\n",
    "\n",
    "RMSE = {\"ic001_lv01_av1\":[0.38049544257620505, 0.2989806816924325],\n",
    "        \"ic0001_lv2_av5\":[0.5827947565136309, 0.5850489297690395],\n",
    "        \"ic0001_lv01_av1\":[0.06855637606791937, 0.043940405234420325],\n",
    "        \"ic001_lv05_av2\":[0.4710492312080094, 0.6611379562634208],\n",
    "        \"ic0001_lv05_av2\":[0.5004471797152243, 0.7477485420210632],\n",
    "        \"ic01-01-1_lv05_av1\":[0.13651735303134582, 0.261242197784442],\n",
    "        \"ic05-05-1_lv01_av05\":[0.13271879582735796, 0.06726795861876865],\n",
    "        \"ic00001-00001-1_lv05_av5\":[0.5004471797152243, 0.7477485420210632],\n",
    "        \"ic00001-00001-1_lv01_av1\":[0.6677307469376528, 0.5341516836203746],\n",
    "        \"ic0001_lc03_av1.5\":[0.08662730405255863, 0.049437987208355794],\n",
    "        }\n",
    "MAE = {\"ic001_lv01_av1\":[2.1519326720872116, 3.9929288678980406],\n",
    "       \"ic0001_lv2_av5\":[2.5078541296379058, 5.546261779794141],\n",
    "        \"ic0001_lv01_av1\":[0.5450581790750851, 0.2116876065740448],\n",
    "        \"ic001_lv05_av2\":[1.941433671961406, 6.255390886558615],\n",
    "        \"ic0001_lv05_av2\":[2.0846341232409618, 5.577973911309113],\n",
    "        \"ic01-01-1_lv05_av1\":[2.104527238534375, 5.599753809934061],\n",
    "        \"ic05-05-1_lv01_av05\":[2.3893308934002557, 0.8929875564829306],\n",
    "        \"ic00001-00001-1_lv05_av5\":[2.0846341232409618, 5.577973911309113],\n",
    "        \"ic00001-00001-1_lv01_av1\":[2.681592449691385, 5.654965784070142],\n",
    "        \"ic0001_lc03_av1.5\":[0.9499348119504557, 0.2996231136419895],\n",
    "}\n",
    "TCE = {\"ic001_lv01_av1\":[385.3458611325804, 288.6392001537754],\n",
    "       \"ic0001_lv2_av5\":[576.0088081703375, 498.7620690524466],\n",
    "       \"ic0001_lv01_av1\":[71.50205213216233, 53.44156530856581],\n",
    "       \"ic001_lv05_av2\":[433.84828982727333, 491.68669923453444],\n",
    "       \"ic0001_lv05_av2\":[469.80770112905066, 589.5752834650738],\n",
    "        \"ic01-01-1_lv05_av1\":[119.50646955077721, 118.79771526698568],\n",
    "        \"ic05-05-1_lv01_av05\":[113.47884458103601, 73.53351501029744],\n",
    "        \"ic00001-00001-1_lv05_av5\":[469.80770112905066, 589.5752834650738],\n",
    "        \"ic00001-00001-1_lv01_av1\":[705.7768761012778, 486.12090365870824],\n",
    "        \"ic0001_lc03_av1.5\":[100.69445960036114, 65.30586769286143],\n",
    "       }\n",
    "e_p = {\"ic001_lv01_av1\":0.00322144740597313,\n",
    "       \"ic0001_lv2_av5\":0.0018068922200887671,\n",
    "       \"ic0001_lv01_av1\":0.003619965053639422,\n",
    "       \"ic001_lv05_av2\":0.0010129864642770684,\n",
    "       \"ic0001_lv05_av2\":0.05649629843454859,\n",
    "        \"ic01-01-1_lv05_av1\":0.105224640910785,\n",
    "        \"ic05-05-1_lv01_av05\":0.002322477914855421,\n",
    "        \"ic00001-00001-1_lv05_av5\":0.05649629843454859,\n",
    "        \"ic00001-00001-1_lv01_av1\":0.008226763361931833,\n",
    "        \"ic0001_lc03_av1.5\":0.0027518600419859686,\n",
    "       }"
   ]
  },
  {
   "cell_type": "code",
   "execution_count": 2,
   "metadata": {},
   "outputs": [],
   "source": [
    "def find_global_minimum_xy(dictionary):\n",
    "    min_key = min(dictionary, key=lambda k: np.min(dictionary[k][0]) if isinstance(dictionary[k], (list, np.ndarray)) else dictionary[k])\n",
    "    min_value = np.min(dictionary[min_key][0]) if isinstance(dictionary[min_key], (list, np.ndarray)) else dictionary[min_key]\n",
    "    return min_key, min_value\n",
    "def find_global_minimum_yaw(dictionary):\n",
    "    min_key = min(dictionary, key=lambda k: np.min(dictionary[k][-1]) if isinstance(dictionary[k], (list, np.ndarray)) else dictionary[k])\n",
    "    min_value = np.min(dictionary[min_key][-1]) if isinstance(dictionary[min_key], (list, np.ndarray)) else dictionary[min_key]\n",
    "    return min_key, min_value"
   ]
  },
  {
   "cell_type": "code",
   "execution_count": 3,
   "metadata": {},
   "outputs": [
    {
     "name": "stdout",
     "output_type": "stream",
     "text": [
      "Global Minimum in RMSE: Key = ic0001_lv01_av1 , Value = 0.06855637606791937\n",
      "Global Minimum in MAE: Key = ic0001_lv01_av1 , Value = 0.5450581790750851\n",
      "Global Minimum in TCE: Key = ic0001_lv01_av1 , Value = 71.50205213216233\n",
      "Global Minimum in e_p: Key = ic001_lv05_av2 , Value = 0.0010129864642770684\n"
     ]
    }
   ],
   "source": [
    "# Find the global minimum for each dictionary\n",
    "min_key_RMSE, min_value_RMSE = find_global_minimum_xy(RMSE)\n",
    "min_key_MAE, min_value_MAE = find_global_minimum_xy(MAE)\n",
    "min_key_TCE, min_value_TCE = find_global_minimum_xy(TCE)\n",
    "min_key_e_p, min_value_e_p = find_global_minimum_xy(e_p)\n",
    "\n",
    "# Print the results\n",
    "print(\"Global Minimum in RMSE: Key =\", min_key_RMSE, \", Value =\", min_value_RMSE)\n",
    "print(\"Global Minimum in MAE: Key =\", min_key_MAE, \", Value =\", min_value_MAE)\n",
    "print(\"Global Minimum in TCE: Key =\", min_key_TCE, \", Value =\", min_value_TCE)\n",
    "print(\"Global Minimum in e_p: Key =\", min_key_e_p, \", Value =\", min_value_e_p)\n"
   ]
  },
  {
   "cell_type": "code",
   "execution_count": 4,
   "metadata": {},
   "outputs": [
    {
     "name": "stdout",
     "output_type": "stream",
     "text": [
      "Global Minimum in RMSE: Key = ic0001_lv01_av1 , Value = 0.043940405234420325\n",
      "Global Minimum in MAE: Key = ic0001_lv01_av1 , Value = 0.2116876065740448\n",
      "Global Minimum in TCE: Key = ic0001_lv01_av1 , Value = 53.44156530856581\n",
      "Global Minimum in e_p: Key = ic001_lv05_av2 , Value = 0.0010129864642770684\n"
     ]
    }
   ],
   "source": [
    "min_key_RMSE, min_value_RMSE = find_global_minimum_yaw(RMSE)\n",
    "min_key_MAE, min_value_MAE = find_global_minimum_yaw(MAE)\n",
    "min_key_TCE, min_value_TCE = find_global_minimum_yaw(TCE)\n",
    "min_key_e_p, min_value_e_p = find_global_minimum_yaw(e_p)\n",
    "\n",
    "# Print the results\n",
    "print(\"Global Minimum in RMSE: Key =\", min_key_RMSE, \", Value =\", min_value_RMSE)\n",
    "print(\"Global Minimum in MAE: Key =\", min_key_MAE, \", Value =\", min_value_MAE)\n",
    "print(\"Global Minimum in TCE: Key =\", min_key_TCE, \", Value =\", min_value_TCE)\n",
    "print(\"Global Minimum in e_p: Key =\", min_key_e_p, \", Value =\", min_value_e_p)"
   ]
  }
 ],
 "metadata": {
  "kernelspec": {
   "display_name": "Python 3",
   "language": "python",
   "name": "python3"
  },
  "language_info": {
   "codemirror_mode": {
    "name": "ipython",
    "version": 3
   },
   "file_extension": ".py",
   "mimetype": "text/x-python",
   "name": "python",
   "nbconvert_exporter": "python",
   "pygments_lexer": "ipython3",
   "version": "3.10.12"
  }
 },
 "nbformat": 4,
 "nbformat_minor": 2
}
